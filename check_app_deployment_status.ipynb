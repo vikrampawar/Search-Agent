{
 "cells": [
  {
   "cell_type": "markdown",
   "id": "5ab1e84d",
   "metadata": {},
   "source": [
    "# Import Required Libraries\n",
    "Import libraries such as requests and time for HTTP requests and handling timeouts."
   ]
  },
  {
   "cell_type": "code",
   "execution_count": 10,
   "id": "1bd772f7",
   "metadata": {},
   "outputs": [],
   "source": [
    "# Import Required Libraries\n",
    "import requests\n",
    "import time"
   ]
  },
  {
   "cell_type": "markdown",
   "id": "a5498eac",
   "metadata": {},
   "source": [
    "# Define the App URL\n",
    "Specify the URL of the app that needs to be checked for deployment readiness."
   ]
  },
  {
   "cell_type": "code",
   "execution_count": 11,
   "id": "0a04b891",
   "metadata": {},
   "outputs": [],
   "source": [
    "# Define the App URL\n",
    "APP_URL = \"http://18.130.227.1/health\""
   ]
  },
  {
   "cell_type": "markdown",
   "id": "dd24a2a3",
   "metadata": {},
   "source": [
    "# Check App Deployment Status\n",
    "Write a function that sends an HTTP GET request to the app's URL and checks the response status code to determine if the app is ready."
   ]
  },
  {
   "cell_type": "code",
   "execution_count": 12,
   "id": "8edc3de7",
   "metadata": {},
   "outputs": [],
   "source": [
    "def is_app_ready(url, expected_status=200):\n",
    "    \"\"\"\n",
    "    Checks if the app at the given URL is ready by sending a GET request.\n",
    "    Returns True if the response status code matches expected_status.\n",
    "    \"\"\"\n",
    "    try:\n",
    "        response = requests.get(url, timeout=5)\n",
    "        return response.status_code == expected_status\n",
    "    except requests.RequestException:\n",
    "        return False"
   ]
  },
  {
   "cell_type": "markdown",
   "id": "fee1f4db",
   "metadata": {},
   "source": [
    "# Handle Errors and Timeouts\n",
    "Add error handling for connection errors, timeouts, and unexpected status codes."
   ]
  },
  {
   "cell_type": "code",
   "execution_count": 13,
   "id": "120cf95c",
   "metadata": {},
   "outputs": [
    {
     "name": "stdout",
     "output_type": "stream",
     "text": [
      "App not ready yet. Retrying in 5 seconds...\n",
      "App not ready yet. Retrying in 5 seconds...\n",
      "App not ready yet. Retrying in 5 seconds...\n",
      "App not ready yet. Retrying in 5 seconds...\n",
      "App not ready yet. Retrying in 5 seconds...\n",
      "App not ready yet. Retrying in 5 seconds...\n",
      "App not ready yet. Retrying in 5 seconds...\n",
      "App not ready yet. Retrying in 5 seconds...\n",
      "App not ready yet. Retrying in 5 seconds...\n",
      "App not ready yet. Retrying in 5 seconds...\n",
      "App not ready yet. Retrying in 5 seconds...\n",
      "App not ready yet. Retrying in 5 seconds...\n",
      "Timed out waiting for app at http://18.130.227.1/health\n"
     ]
    },
    {
     "data": {
      "text/plain": [
       "False"
      ]
     },
     "execution_count": 13,
     "metadata": {},
     "output_type": "execute_result"
    }
   ],
   "source": [
    "def wait_for_app(url, timeout=60, interval=5):\n",
    "    \"\"\"\n",
    "    Waits for the app to become ready within the specified timeout.\n",
    "    Checks every 'interval' seconds.\n",
    "    \"\"\"\n",
    "    start_time = time.time()\n",
    "    while time.time() - start_time < timeout:\n",
    "        if is_app_ready(url):\n",
    "            print(f\"App is ready at {url}\")\n",
    "            return True\n",
    "        print(f\"App not ready yet. Retrying in {interval} seconds...\")\n",
    "        time.sleep(interval)\n",
    "    print(f\"Timed out waiting for app at {url}\")\n",
    "    return False\n",
    "\n",
    "# Example usage:\n",
    "wait_for_app(APP_URL)"
   ]
  }
 ],
 "metadata": {
  "kernelspec": {
   "display_name": ".venv",
   "language": "python",
   "name": "python3"
  },
  "language_info": {
   "codemirror_mode": {
    "name": "ipython",
    "version": 3
   },
   "file_extension": ".py",
   "mimetype": "text/x-python",
   "name": "python",
   "nbconvert_exporter": "python",
   "pygments_lexer": "ipython3",
   "version": "3.13.1"
  }
 },
 "nbformat": 4,
 "nbformat_minor": 5
}
